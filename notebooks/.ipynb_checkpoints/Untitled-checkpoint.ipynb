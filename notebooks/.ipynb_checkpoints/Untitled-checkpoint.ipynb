{
 "cells": [
  {
   "cell_type": "code",
   "execution_count": 34,
   "metadata": {},
   "outputs": [],
   "source": [
    "import pandas as pd\n",
    "import matplotlib.pyplot as plt\n",
    "import math"
   ]
  },
  {
   "cell_type": "code",
   "execution_count": 15,
   "metadata": {},
   "outputs": [],
   "source": [
    "simulation_detections_filename = \"../outputs/2020-04-29 00:02:31.503350/simulations/2020-04-29 00:02:31.503433/inductiondetections.csv\""
   ]
  },
  {
   "cell_type": "code",
   "execution_count": 16,
   "metadata": {},
   "outputs": [],
   "source": [
    "simulation_detections = pd.read_csv(simulation_detections_filename, sep=',', header=0, encoding='unicode_escape')"
   ]
  },
  {
   "cell_type": "code",
   "execution_count": 17,
   "metadata": {},
   "outputs": [
    {
     "data": {
      "text/html": [
       "<div>\n",
       "<style scoped>\n",
       "    .dataframe tbody tr th:only-of-type {\n",
       "        vertical-align: middle;\n",
       "    }\n",
       "\n",
       "    .dataframe tbody tr th {\n",
       "        vertical-align: top;\n",
       "    }\n",
       "\n",
       "    .dataframe thead th {\n",
       "        text-align: right;\n",
       "    }\n",
       "</style>\n",
       "<table border=\"1\" class=\"dataframe\">\n",
       "  <thead>\n",
       "    <tr style=\"text-align: right;\">\n",
       "      <th></th>\n",
       "      <th>Detector</th>\n",
       "      <th>Time</th>\n",
       "      <th>qPKW</th>\n",
       "    </tr>\n",
       "  </thead>\n",
       "  <tbody>\n",
       "    <tr>\n",
       "      <th>0</th>\n",
       "      <td>16219V72812_1</td>\n",
       "      <td>20</td>\n",
       "      <td>1</td>\n",
       "    </tr>\n",
       "    <tr>\n",
       "      <th>1</th>\n",
       "      <td>16219V72812_3</td>\n",
       "      <td>20</td>\n",
       "      <td>1</td>\n",
       "    </tr>\n",
       "    <tr>\n",
       "      <th>2</th>\n",
       "      <td>81077V72158_2</td>\n",
       "      <td>100</td>\n",
       "      <td>1</td>\n",
       "    </tr>\n",
       "    <tr>\n",
       "      <th>3</th>\n",
       "      <td>16219V72812_2</td>\n",
       "      <td>110</td>\n",
       "      <td>1</td>\n",
       "    </tr>\n",
       "    <tr>\n",
       "      <th>4</th>\n",
       "      <td>81077V72158_2</td>\n",
       "      <td>110</td>\n",
       "      <td>1</td>\n",
       "    </tr>\n",
       "    <tr>\n",
       "      <th>...</th>\n",
       "      <td>...</td>\n",
       "      <td>...</td>\n",
       "      <td>...</td>\n",
       "    </tr>\n",
       "    <tr>\n",
       "      <th>567</th>\n",
       "      <td>21801V72158_1</td>\n",
       "      <td>14150</td>\n",
       "      <td>1</td>\n",
       "    </tr>\n",
       "    <tr>\n",
       "      <th>568</th>\n",
       "      <td>16219V72812_1</td>\n",
       "      <td>14170</td>\n",
       "      <td>1</td>\n",
       "    </tr>\n",
       "    <tr>\n",
       "      <th>569</th>\n",
       "      <td>88356V72157_1</td>\n",
       "      <td>14240</td>\n",
       "      <td>1</td>\n",
       "    </tr>\n",
       "    <tr>\n",
       "      <th>570</th>\n",
       "      <td>81077V72158_2</td>\n",
       "      <td>14380</td>\n",
       "      <td>1</td>\n",
       "    </tr>\n",
       "    <tr>\n",
       "      <th>571</th>\n",
       "      <td>88356V72157_6</td>\n",
       "      <td>14390</td>\n",
       "      <td>1</td>\n",
       "    </tr>\n",
       "  </tbody>\n",
       "</table>\n",
       "<p>572 rows × 3 columns</p>\n",
       "</div>"
      ],
      "text/plain": [
       "          Detector   Time  qPKW\n",
       "0    16219V72812_1     20     1\n",
       "1    16219V72812_3     20     1\n",
       "2    81077V72158_2    100     1\n",
       "3    16219V72812_2    110     1\n",
       "4    81077V72158_2    110     1\n",
       "..             ...    ...   ...\n",
       "567  21801V72158_1  14150     1\n",
       "568  16219V72812_1  14170     1\n",
       "569  88356V72157_1  14240     1\n",
       "570  81077V72158_2  14380     1\n",
       "571  88356V72157_6  14390     1\n",
       "\n",
       "[572 rows x 3 columns]"
      ]
     },
     "execution_count": 17,
     "metadata": {},
     "output_type": "execute_result"
    }
   ],
   "source": [
    "simulation_detections"
   ]
  },
  {
   "cell_type": "code",
   "execution_count": 18,
   "metadata": {},
   "outputs": [],
   "source": [
    "real_detections_filename = \"../simulations/small/data/detections.csv\""
   ]
  },
  {
   "cell_type": "code",
   "execution_count": 19,
   "metadata": {},
   "outputs": [],
   "source": [
    "real_detections = pd.read_csv(real_detections_filename, sep=';', header=0, encoding='unicode_escape')"
   ]
  },
  {
   "cell_type": "code",
   "execution_count": 20,
   "metadata": {},
   "outputs": [
    {
     "data": {
      "text/html": [
       "<div>\n",
       "<style scoped>\n",
       "    .dataframe tbody tr th:only-of-type {\n",
       "        vertical-align: middle;\n",
       "    }\n",
       "\n",
       "    .dataframe tbody tr th {\n",
       "        vertical-align: top;\n",
       "    }\n",
       "\n",
       "    .dataframe thead th {\n",
       "        text-align: right;\n",
       "    }\n",
       "</style>\n",
       "<table border=\"1\" class=\"dataframe\">\n",
       "  <thead>\n",
       "    <tr style=\"text-align: right;\">\n",
       "      <th></th>\n",
       "      <th>Detector</th>\n",
       "      <th>Time</th>\n",
       "      <th>qPKW</th>\n",
       "      <th>vPKW</th>\n",
       "    </tr>\n",
       "  </thead>\n",
       "  <tbody>\n",
       "    <tr>\n",
       "      <th>0</th>\n",
       "      <td>81077V72158_1</td>\n",
       "      <td>0</td>\n",
       "      <td>9</td>\n",
       "      <td>40</td>\n",
       "    </tr>\n",
       "    <tr>\n",
       "      <th>1</th>\n",
       "      <td>88356V72157_2</td>\n",
       "      <td>0</td>\n",
       "      <td>7</td>\n",
       "      <td>40</td>\n",
       "    </tr>\n",
       "    <tr>\n",
       "      <th>2</th>\n",
       "      <td>88356V72157_6</td>\n",
       "      <td>0</td>\n",
       "      <td>12</td>\n",
       "      <td>40</td>\n",
       "    </tr>\n",
       "    <tr>\n",
       "      <th>3</th>\n",
       "      <td>88356V72157_1</td>\n",
       "      <td>0</td>\n",
       "      <td>10</td>\n",
       "      <td>40</td>\n",
       "    </tr>\n",
       "    <tr>\n",
       "      <th>4</th>\n",
       "      <td>21801V72158_1</td>\n",
       "      <td>0</td>\n",
       "      <td>26</td>\n",
       "      <td>40</td>\n",
       "    </tr>\n",
       "    <tr>\n",
       "      <th>...</th>\n",
       "      <td>...</td>\n",
       "      <td>...</td>\n",
       "      <td>...</td>\n",
       "      <td>...</td>\n",
       "    </tr>\n",
       "    <tr>\n",
       "      <th>331</th>\n",
       "      <td>81077V72158_3</td>\n",
       "      <td>1380</td>\n",
       "      <td>68</td>\n",
       "      <td>40</td>\n",
       "    </tr>\n",
       "    <tr>\n",
       "      <th>332</th>\n",
       "      <td>81077V72158_2</td>\n",
       "      <td>1380</td>\n",
       "      <td>43</td>\n",
       "      <td>40</td>\n",
       "    </tr>\n",
       "    <tr>\n",
       "      <th>333</th>\n",
       "      <td>81077V72158_1</td>\n",
       "      <td>1380</td>\n",
       "      <td>3</td>\n",
       "      <td>40</td>\n",
       "    </tr>\n",
       "    <tr>\n",
       "      <th>334</th>\n",
       "      <td>16219V72812_3</td>\n",
       "      <td>1380</td>\n",
       "      <td>10</td>\n",
       "      <td>40</td>\n",
       "    </tr>\n",
       "    <tr>\n",
       "      <th>335</th>\n",
       "      <td>16219V72812_4</td>\n",
       "      <td>1380</td>\n",
       "      <td>11</td>\n",
       "      <td>40</td>\n",
       "    </tr>\n",
       "  </tbody>\n",
       "</table>\n",
       "<p>336 rows × 4 columns</p>\n",
       "</div>"
      ],
      "text/plain": [
       "          Detector  Time  qPKW  vPKW\n",
       "0    81077V72158_1     0     9    40\n",
       "1    88356V72157_2     0     7    40\n",
       "2    88356V72157_6     0    12    40\n",
       "3    88356V72157_1     0    10    40\n",
       "4    21801V72158_1     0    26    40\n",
       "..             ...   ...   ...   ...\n",
       "331  81077V72158_3  1380    68    40\n",
       "332  81077V72158_2  1380    43    40\n",
       "333  81077V72158_1  1380     3    40\n",
       "334  16219V72812_3  1380    10    40\n",
       "335  16219V72812_4  1380    11    40\n",
       "\n",
       "[336 rows x 4 columns]"
      ]
     },
     "execution_count": 20,
     "metadata": {},
     "output_type": "execute_result"
    }
   ],
   "source": [
    "real_detections"
   ]
  },
  {
   "cell_type": "code",
   "execution_count": 21,
   "metadata": {},
   "outputs": [
    {
     "name": "stdout",
     "output_type": "stream",
     "text": [
      "['81077V72158_1' '88356V72157_2' '88356V72157_6' '88356V72157_1'\n",
      " '21801V72158_1' '21801V72158_2' '81077V72158_4' '16219V72812_1'\n",
      " '81077V72158_3' '16219V72812_2' '16219V72812_3' '81077V72158_2'\n",
      " '16219V72812_4' '88356V72157_4']\n",
      "['16219V72812_1' '16219V72812_3' '81077V72158_2' '16219V72812_2'\n",
      " '88356V72157_6' '21801V72158_1' '21801V72158_2' '88356V72157_2'\n",
      " '88356V72157_1' '16219V72812_4']\n"
     ]
    }
   ],
   "source": [
    "print(real_detections.Detector.unique())\n",
    "print(simulation_detections.Detector.unique())\n"
   ]
  },
  {
   "cell_type": "code",
   "execution_count": 23,
   "metadata": {},
   "outputs": [
    {
     "name": "stdout",
     "output_type": "stream",
     "text": [
      "          Detector  Time  qPKW  vPKW\n",
      "7    16219V72812_1     0    34    40\n",
      "17   16219V72812_1    60    28    40\n",
      "34   16219V72812_1   120    14    40\n",
      "45   16219V72812_1   180    14    40\n",
      "69   16219V72812_1   240    16    40\n",
      "77   16219V72812_1   300    47    40\n",
      "87   16219V72812_1   360   229    40\n",
      "104  16219V72812_1   420   487    40\n",
      "114  16219V72812_1   480   610    40\n",
      "130  16219V72812_1   540   488    40\n",
      "146  16219V72812_1   600   507    40\n",
      "155  16219V72812_1   660   529    40\n",
      "173  16219V72812_1   720   523    40\n",
      "195  16219V72812_1   780   507    40\n",
      "203  16219V72812_1   840   561    40\n",
      "215  16219V72812_1   900   647    40\n",
      "227  16219V72812_1   960   641    40\n",
      "239  16219V72812_1  1020   642    40\n",
      "257  16219V72812_1  1080   454    40\n",
      "277  16219V72812_1  1140   362    40\n",
      "284  16219V72812_1  1200   311    40\n",
      "305  16219V72812_1  1260   212    40\n",
      "312  16219V72812_1  1320   170    40\n",
      "324  16219V72812_1  1380    61    40\n"
     ]
    }
   ],
   "source": [
    "print(real_detections.loc[real_detections['Detector'] == '16219V72812_1'])"
   ]
  },
  {
   "cell_type": "code",
   "execution_count": 24,
   "metadata": {},
   "outputs": [
    {
     "name": "stdout",
     "output_type": "stream",
     "text": [
      "          Detector   Time  qPKW\n",
      "0    16219V72812_1     20     1\n",
      "5    16219V72812_1    120     1\n",
      "8    16219V72812_1    250     1\n",
      "11   16219V72812_1    330     1\n",
      "14   16219V72812_1    440     1\n",
      "..             ...    ...   ...\n",
      "539  16219V72812_1  13130     1\n",
      "543  16219V72812_1  13390     1\n",
      "549  16219V72812_1  13650     1\n",
      "558  16219V72812_1  13900     1\n",
      "568  16219V72812_1  14170     1\n",
      "\n",
      "[102 rows x 3 columns]\n"
     ]
    }
   ],
   "source": [
    "print(simulation_detections.loc[simulation_detections['Detector'] == '16219V72812_1'])"
   ]
  },
  {
   "cell_type": "code",
   "execution_count": 46,
   "metadata": {},
   "outputs": [
    {
     "data": {
      "image/png": "[encoded data removed]",
      "text/plain": [
       "<Figure size 432x288 with 1 Axes>"
      ]
     },
     "metadata": {
      "needs_background": "light"
     },
     "output_type": "display_data"
    }
   ],
   "source": [
    "x = real_detections.loc[real_detections['Detector'] == '88356V72157_1']['Time'].to_numpy()\n",
    "y = real_detections.loc[real_detections['Detector'] == '88356V72157_1']['qPKW'].to_numpy()\n",
    "plt.plot(x, y)\n",
    "plt.show()"
   ]
  },
  {
   "cell_type": "code",
   "execution_count": 50,
   "metadata": {},
   "outputs": [
    {
     "data": {
      "image/png": "[encoded data removed]",
      "text/plain": [
       "<Figure size 432x288 with 1 Axes>"
      ]
     },
     "metadata": {
      "needs_background": "light"
     },
     "output_type": "display_data"
    }
   ],
   "source": [
    "x = simulation_detections.loc[simulation_detections['Detector'] == '88356V72157_1']['Time'].to_numpy()\n",
    "y = simulation_detections.loc[simulation_detections['Detector'] == '88356V72157_1']['qPKW'].to_numpy()\n",
    "\n",
    "data = {}\n",
    "\n",
    "for _x, _y in zip(x,y):\n",
    "    time_minutes = math.floor(_x/10)\n",
    "    if not time_minutes in data:\n",
    "        data[time_minutes] = 0\n",
    "    data[time_minutes] += _y\n",
    "\n",
    "x = list(data.keys())\n",
    "y = list(data.values())\n",
    "plt.plot(x, y)\n",
    "plt.show()"
   ]
  },
  {
   "cell_type": "code",
   "execution_count": null,
   "metadata": {},
   "outputs": [],
   "source": []
  }
 ],
 "metadata": {
  "kernelspec": {
   "display_name": "Python (thesis)",
   "language": "python",
   "name": "thesis"
  },
  "language_info": {
   "codemirror_mode": {
    "name": "ipython",
    "version": 3
   },
   "file_extension": ".py",
   "mimetype": "text/x-python",
   "name": "python",
   "nbconvert_exporter": "python",
   "pygments_lexer": "ipython3",
   "version": "3.6.10"
  }
 },
 "nbformat": 4,
 "nbformat_minor": 4
}
