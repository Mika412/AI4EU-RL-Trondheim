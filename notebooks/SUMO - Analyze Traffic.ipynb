{
 "cells": [
  {
   "cell_type": "code",
   "execution_count": 6,
   "metadata": {},
   "outputs": [
    {
     "data": {
      "text/plain": [
       "<Figure size 432x288 with 0 Axes>"
      ]
     },
     "metadata": {},
     "output_type": "display_data"
    }
   ],
   "source": [
    "import csv\n",
    "import pandas as pd\n",
    "import matplotlib.pyplot as plt\n",
    "import numpy as np\n",
    "import time\n",
    "\n",
    "class SensorData:\n",
    "    def __init__(self,sensor_id):\n",
    "        self.id = sensor_id\n",
    "        self.directions = []\n",
    "        self.real_traff = []\n",
    "        self.simul_traff = []\n",
    "        \n",
    "    def add_direction(self,direction,real,simul):\n",
    "        self.directions.append(direction)\n",
    "        self.real_traff.append(real)\n",
    "        self.simul_traff.append(simul)\n",
    "  \n",
    "\n",
    "sensor_loc = pd.read_csv('../sensors/sensor_location.csv',delimiter=';')\n",
    "data_simul = pd.read_csv('../outputs/small_extended/inductiondetections.csv', delimiter=',', engine='python')\n",
    "\n",
    "#sensors_in_map =[]\n",
    "#for s in data_simul['Detector'].unique():\n",
    "#    sensors_in_map.append(s.split(sep='_')[0])\n",
    "sensors_in_map=data_simul['Detector'].str.split(pat='_',n=1).str[0].unique()\n",
    "\n",
    "#Start by creating a dict to index all sensors in map\n",
    "all_sensor = {}\n",
    "#Iterate over all sensors\n",
    "for sens in sensors_in_map:\n",
    "    #print(sens)\n",
    "    #For each sensor add a new entry in the dict\n",
    "    all_sensor[sens]=SensorData(sens)\n",
    "    #And read real traffic data (sensor id helps to get the correct file)\n",
    "    data_real=pd.read_csv('../sensors/data/'+sens+'_hour_20200225T0000_20200226T0000.csv', delimiter=';', engine='python')\n",
    "    \n",
    "    #Then, for each sensor, loop through both directions. Final goal is to sum up the traffic in both directions\n",
    "    for direct in sensor_loc[sensor_loc['Detector ID']==sens]['Direction'].unique():\n",
    "        #print(direct)\n",
    "        #Get all lanes in given direction\n",
    "        lanes = sensor_loc[(sensor_loc['Detector ID']==sens) & (sensor_loc['Direction']==direct)]['Detector Lane']\n",
    "        #Initialize array for traffic in this direction (number of entries equal to number of hours in the csv)\n",
    "        n_hours = len(data_real[data_real['Felt']=='Totalt'])\n",
    "        real_traff_direction = np.zeros(n_hours)\n",
    "        simul_traff_direction = np.zeros(n_hours)\n",
    "        #Loop over all lanes in this direction, and sum traffic ammount on lane to direction total\n",
    "        for lane in lanes:\n",
    "            #print(lane)\n",
    "            #Read real traffic data for lane and add it to direction count\n",
    "            real_traff_direction += data_real[data_real['Felt']==str(lane)]['Volum'].values\n",
    "            \n",
    "            #Now read simulated data, and parse it according to its format (is not yet aggregated per hour)\n",
    "            simul_data_lane = data_simul[data_simul.Detector == str(sens+'_'+str(lane))]\n",
    "            h=1\n",
    "            simul_traff_lane = np.zeros(n_hours)\n",
    "            for index, row in simul_data_lane.iterrows():\n",
    "                if row.Time < h*3600:\n",
    "                    simul_traff_lane[h-1] += row.qPKW\n",
    "                else:\n",
    "                    h+=1\n",
    "                    simul_traff_lane[h-1] += row.qPKW\n",
    "            \n",
    "            simul_traff_direction += simul_traff_lane\n",
    "            #print(simul_traff_lane)\n",
    "            \n",
    "        #Save result in data structure\n",
    "        #print(direct)\n",
    "        #print(all_sensor[sens].directions)\n",
    "        all_sensor[sens].add_direction(direction=direct,real=real_traff_direction,simul=simul_traff_direction)\n",
    "        \n",
    "        \n",
    "    \n",
    "    \n",
    "for sens in all_sensor:\n",
    "    for idx, direct in enumerate(all_sensor[sens].directions):\n",
    "        plt.plot(all_sensor[sens].real_traff[idx],label='real traffic')\n",
    "        plt.plot(all_sensor[sens].simul_traff[idx],label='simul traffic')\n",
    "        plt.xlabel(\"Hour\")\n",
    "        plt.ylabel(\"Traffic\")\n",
    "        plt.legend()\n",
    "        plt.savefig('figs/'+str(sens)+'_to_'+str(direct)+'.png',format='png',dpi=1200)\n",
    "        plt.clf()"
   ]
  },
  {
   "cell_type": "code",
   "execution_count": null,
   "metadata": {},
   "outputs": [],
   "source": []
  },
  {
   "cell_type": "code",
   "execution_count": null,
   "metadata": {},
   "outputs": [],
   "source": []
  },
  {
   "cell_type": "code",
   "execution_count": null,
   "metadata": {},
   "outputs": [],
   "source": []
  }
 ],
 "metadata": {
  "kernelspec": {
   "display_name": "Python 3",
   "language": "python",
   "name": "python3"
  },
  "language_info": {
   "codemirror_mode": {
    "name": "ipython",
    "version": 3
   },
   "file_extension": ".py",
   "mimetype": "text/x-python",
   "name": "python",
   "nbconvert_exporter": "python",
   "pygments_lexer": "ipython3",
   "version": "3.6.9"
  }
 },
 "nbformat": 4,
 "nbformat_minor": 4
}
